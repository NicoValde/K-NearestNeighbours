{
 "cells": [
  {
   "cell_type": "markdown",
   "metadata": {},
   "source": [
    "# Setting up Code"
   ]
  },
  {
   "cell_type": "code",
   "execution_count": 1,
   "metadata": {},
   "outputs": [],
   "source": [
    "import csv\n",
    "import numpy\n",
    "import matplotlib.pyplot as plt\n",
    "from numpy import genfromtxt\n",
    "import math\n",
    "from collections import defaultdict as defaultdict\n",
    "from tqdm import tqdm_notebook as tqdm\n",
    "from sklearn.neighbors import NearestNeighbors"
   ]
  },
  {
   "cell_type": "code",
   "execution_count": 2,
   "metadata": {},
   "outputs": [],
   "source": [
    "m_r = {}\n",
    "u_d = defaultdict(dict)"
   ]
  },
  {
   "cell_type": "code",
   "execution_count": 3,
   "metadata": {},
   "outputs": [],
   "source": [
    "with open('ml-100k/u.data') as csvfile:\n",
    "    u_data = csv.reader(csvfile, delimiter='\\t')\n",
    "    for row in u_data:\n",
    "        if row[1] not in m_r:\n",
    "            m_r[row[1]] = []\n",
    "        m_r[row[1]].append([row[0], row[2], row[3]])\n",
    "        \n",
    "        u_d[row[0]][row[1]] = row[2]"
   ]
  },
  {
   "cell_type": "code",
   "execution_count": 4,
   "metadata": {},
   "outputs": [],
   "source": [
    "fill = 4"
   ]
  },
  {
   "cell_type": "code",
   "execution_count": 5,
   "metadata": {},
   "outputs": [],
   "source": [
    "sk_mat1 = numpy.full((len(u_d), len(m_r)), fill)\n",
    "test_mat1 = numpy.zeros((len(u_d), len(m_r)))\n",
    "with open('ml-100k/u1.base') as csvfile:\n",
    "    u1_base = csv.reader(csvfile, delimiter='\\t')\n",
    "    for row in u1_base:\n",
    "        sk_mat1[int(row[0])-1, int(row[1])-1] = row[2]\n",
    "        \n",
    "with open('ml-100k/u1.test') as csvfile:\n",
    "    u1_test = csv.reader(csvfile, delimiter='\\t')\n",
    "    for row in u1_test:\n",
    "        test_mat1[int(row[0])-1, int(row[1])-1] = row[2]"
   ]
  },
  {
   "cell_type": "code",
   "execution_count": 6,
   "metadata": {},
   "outputs": [],
   "source": [
    "sk_mat2 = numpy.full((len(u_d), len(m_r)), fill)\n",
    "test_mat2 = numpy.zeros((len(u_d), len(m_r)))\n",
    "with open('ml-100k/u2.base') as csvfile:\n",
    "    u2_base = csv.reader(csvfile, delimiter='\\t')\n",
    "    for row in u2_base:\n",
    "        sk_mat2[int(row[0])-1, int(row[1])-1] = row[2]\n",
    "        \n",
    "with open('ml-100k/u2.test') as csvfile:\n",
    "    u2_test = csv.reader(csvfile, delimiter='\\t')\n",
    "    for row in u2_test:\n",
    "        test_mat2[int(row[0])-1, int(row[1])-1] = row[2]"
   ]
  },
  {
   "cell_type": "code",
   "execution_count": 7,
   "metadata": {},
   "outputs": [],
   "source": [
    "sk_mat3 = numpy.full((len(u_d), len(m_r)), fill)\n",
    "test_mat3 = numpy.zeros((len(u_d), len(m_r)))\n",
    "with open('ml-100k/u3.base') as csvfile:\n",
    "    u3_base = csv.reader(csvfile, delimiter='\\t')\n",
    "    for row in u3_base:\n",
    "        sk_mat3[int(row[0])-1, int(row[1])-1] = row[2]\n",
    "        \n",
    "with open('ml-100k/u3.test') as csvfile:\n",
    "    u3_test = csv.reader(csvfile, delimiter='\\t')\n",
    "    for row in u3_test:\n",
    "        test_mat3[int(row[0])-1, int(row[1])-1] = row[2]"
   ]
  },
  {
   "cell_type": "code",
   "execution_count": 8,
   "metadata": {},
   "outputs": [],
   "source": [
    "sk_mat4 = numpy.full((len(u_d), len(m_r)), fill)\n",
    "test_mat4 = numpy.zeros((len(u_d), len(m_r)))\n",
    "with open('ml-100k/u4.base') as csvfile:\n",
    "    u4_base = csv.reader(csvfile, delimiter='\\t')\n",
    "    for row in u4_base:\n",
    "        sk_mat4[int(row[0])-1, int(row[1])-1] = row[2]\n",
    "        \n",
    "with open('ml-100k/u4.test') as csvfile:\n",
    "    u4_test = csv.reader(csvfile, delimiter='\\t')\n",
    "    for row in u4_test:\n",
    "        test_mat4[int(row[0])-1, int(row[1])-1] = row[2]"
   ]
  },
  {
   "cell_type": "code",
   "execution_count": 9,
   "metadata": {},
   "outputs": [],
   "source": [
    "sk_mat5 = numpy.full((len(u_d), len(m_r)), fill)\n",
    "test_mat5 = numpy.zeros((len(u_d), len(m_r)))\n",
    "with open('ml-100k/u5.base') as csvfile:\n",
    "    u5_base = csv.reader(csvfile, delimiter='\\t')\n",
    "    for row in u5_base:\n",
    "        sk_mat5[int(row[0])-1, int(row[1])-1] = row[2]\n",
    "        \n",
    "with open('ml-100k/u5.test') as csvfile:\n",
    "    u5_test = csv.reader(csvfile, delimiter='\\t')\n",
    "    for row in u5_test:\n",
    "        test_mat5[int(row[0])-1, int(row[1])-1] = row[2]"
   ]
  },
  {
   "cell_type": "code",
   "execution_count": 10,
   "metadata": {},
   "outputs": [
    {
     "name": "stdout",
     "output_type": "stream",
     "text": [
      "3.0760445083251815\n"
     ]
    }
   ],
   "source": [
    "first_avg = {}\n",
    "for i in m_r:\n",
    "    first_avg[i] = sum(int(j[1]) for j in m_r[i])/len(m_r[i])\n",
    "    \n",
    "avg_total = sum(first_avg[i] for i in first_avg)/len(first_avg)\n",
    "print(avg_total)"
   ]
  },
  {
   "cell_type": "code",
   "execution_count": 11,
   "metadata": {},
   "outputs": [],
   "source": [
    "m_r_avg = {}\n",
    "for i in m_r:\n",
    "    row = numpy.array(m_r[i]).astype(int)\n",
    "    v = len(row)\n",
    "    thresh = 6\n",
    "    # The following formula is the iMDB weighted rating formula used for their movies.\n",
    "    # 'weighted rating (WR) = (v ÷ (v+m)) × R + (m ÷ (v+m)) × C' -- 03/12/2019\n",
    "    # https://help.imdb.com/article/imdb/track-movies-tv/ratings-faq/G67Y87TFYYP6TWAV#\n",
    "    # Used below:\n",
    "    m_r_avg[i] = [(v/(v+thresh))*(sum(row[:,1])/v) + (thresh/(v+thresh)*avg_total)]"
   ]
  },
  {
   "cell_type": "code",
   "execution_count": 12,
   "metadata": {},
   "outputs": [],
   "source": [
    "def knn(k, mat):\n",
    "    func = NearestNeighbors(k, metric='canberra')\n",
    "    func.fit(mat)\n",
    "    return func.kneighbors()"
   ]
  },
  {
   "cell_type": "code",
   "execution_count": 13,
   "metadata": {},
   "outputs": [],
   "source": [
    "knn_mat = knn(100, sk_mat1)"
   ]
  },
  {
   "cell_type": "code",
   "execution_count": 14,
   "metadata": {
    "scrolled": true
   },
   "outputs": [],
   "source": [
    "def weight_collapse(sk_mat, knn_mat):\n",
    "    ul_mat = sk_mat[knn_mat[1]]\n",
    "    inv_dist = 1/knn_mat[0]\n",
    "    inv_dist = inv_dist/inv_dist.sum(axis=1, keepdims=True)\n",
    "    sum(inv_dist[:,0])\n",
    "\n",
    "    u_r = numpy.einsum(\"abc, ab -> ac\", ul_mat, inv_dist)\n",
    "    return u_r"
   ]
  },
  {
   "cell_type": "code",
   "execution_count": 15,
   "metadata": {},
   "outputs": [],
   "source": [
    "u_r = weight_collapse(sk_mat1, knn_mat)"
   ]
  },
  {
   "cell_type": "code",
   "execution_count": 16,
   "metadata": {},
   "outputs": [],
   "source": [
    "m_names = {}\n",
    "with open('ml-100k/u.item') as csvfile:\n",
    "    u_item = csv.reader(csvfile, delimiter='|')\n",
    "    \n",
    "    for row in u_item:\n",
    "        m_names[row[0]] = row[1]\n",
    "        m_r_avg[row[0]].append(row[5:])\n",
    "        "
   ]
  },
  {
   "cell_type": "code",
   "execution_count": 17,
   "metadata": {},
   "outputs": [],
   "source": [
    "def rec_mov(user_id, amount):\n",
    "    arr = u_r[user_id-1]\n",
    "    ret = arr.argsort()[-amount:][::-1]\n",
    "    \n",
    "    for i in ret:\n",
    "        print(m_names[str(i+1)], arr[i])"
   ]
  },
  {
   "cell_type": "code",
   "execution_count": 18,
   "metadata": {
    "scrolled": true
   },
   "outputs": [
    {
     "name": "stdout",
     "output_type": "stream",
     "text": [
      "Star Wars (1977) 4.0703392900851565\n",
      "Pulp Fiction (1994) 4.069134922451312\n",
      "Titanic (1997) 4.0497978729788775\n",
      "Casablanca (1942) 4.049735966606287\n",
      "English Patient, The (1996) 4.041700101545392\n",
      "Close Shave, A (1995) 4.040534570044467\n",
      "Toy Story (1995) 4.040118800163246\n",
      "Shawshank Redemption, The (1994) 4.0399888324631075\n",
      "G.I. Jane (1997) 4.039672111004958\n",
      "Schindler's List (1993) 4.039582547678476\n"
     ]
    }
   ],
   "source": [
    "rec_mov(5, 10)"
   ]
  },
  {
   "cell_type": "code",
   "execution_count": 19,
   "metadata": {},
   "outputs": [],
   "source": [
    "def mae(base, test):\n",
    "    total = 0\n",
    "    count = 0\n",
    "    for i in range(base.shape[0]):\n",
    "        for j in range(base.shape[1]):\n",
    "            if test[i][j] != 0:\n",
    "                total += numpy.absolute(base[i,j] - test[i,j])\n",
    "                count += 1\n",
    "    return total/count"
   ]
  },
  {
   "cell_type": "code",
   "execution_count": 20,
   "metadata": {
    "scrolled": true
   },
   "outputs": [
    {
     "data": {
      "text/plain": [
       "0.9100193635521082"
      ]
     },
     "execution_count": 20,
     "metadata": {},
     "output_type": "execute_result"
    }
   ],
   "source": [
    "mae(u_r, test_mat1)"
   ]
  },
  {
   "cell_type": "markdown",
   "metadata": {},
   "source": [
    "# With extra User Features"
   ]
  },
  {
   "cell_type": "code",
   "execution_count": 21,
   "metadata": {},
   "outputs": [],
   "source": [
    "occupations = genfromtxt('ml-100k/u.occupation', delimiter=',')\n",
    "user_info = genfromtxt('ml-100k/u.user', delimiter='|')"
   ]
  },
  {
   "cell_type": "code",
   "execution_count": 22,
   "metadata": {
    "scrolled": true
   },
   "outputs": [],
   "source": [
    "user_info = []\n",
    "with open('ml-100k/u.user') as csvfile:\n",
    "    u_user = csv.reader(csvfile, delimiter='|')\n",
    "    for row in u_user:\n",
    "        # age | gender | occupation | zip code\n",
    "        user_info.append([row[1], row[2], row[3]])"
   ]
  },
  {
   "cell_type": "code",
   "execution_count": 23,
   "metadata": {},
   "outputs": [],
   "source": [
    "def personal_score(u1, u2):\n",
    "    total = 0\n",
    "    for i in range(len(user_info[0])):\n",
    "        if i == 0: #Age\n",
    "            if abs(int(user_info[u1][i]) - int(user_info[u2][i])) <= (int(user_info[u1][i])//6 + 1):\n",
    "                total += 1\n",
    "        else:\n",
    "            if user_info[u1][i] == user_info[u2][i]:\n",
    "                total += 1\n",
    "    return total/30\n",
    "        "
   ]
  },
  {
   "cell_type": "code",
   "execution_count": 24,
   "metadata": {},
   "outputs": [],
   "source": [
    "def opt_weights(mat):\n",
    "    w_mat = mat\n",
    "    for u in range(len(w_mat[0])):\n",
    "        for w in range(len(w_mat[0][0])):\n",
    "            w_mat[0][u][w] += personal_score(u, w_mat[1][u][w])\n",
    "    return w_mat"
   ]
  },
  {
   "cell_type": "code",
   "execution_count": 25,
   "metadata": {},
   "outputs": [],
   "source": [
    "opt_knn_mat = opt_weights(knn_mat)"
   ]
  },
  {
   "cell_type": "code",
   "execution_count": 26,
   "metadata": {},
   "outputs": [],
   "source": [
    "opt_u_r = weight_collapse(sk_mat1, opt_knn_mat)"
   ]
  },
  {
   "cell_type": "code",
   "execution_count": 27,
   "metadata": {},
   "outputs": [
    {
     "data": {
      "text/plain": [
       "0.9100193635521082"
      ]
     },
     "execution_count": 27,
     "metadata": {},
     "output_type": "execute_result"
    }
   ],
   "source": [
    "mae(u_r, test_mat1)"
   ]
  },
  {
   "cell_type": "code",
   "execution_count": 28,
   "metadata": {
    "scrolled": true
   },
   "outputs": [
    {
     "data": {
      "text/plain": [
       "0.9100202610952507"
      ]
     },
     "execution_count": 28,
     "metadata": {},
     "output_type": "execute_result"
    }
   ],
   "source": [
    "mae(opt_u_r, test_mat1)"
   ]
  },
  {
   "cell_type": "markdown",
   "metadata": {},
   "source": [
    "# Full Error Calculation"
   ]
  },
  {
   "cell_type": "code",
   "execution_count": 29,
   "metadata": {},
   "outputs": [],
   "source": [
    "all_sk_mat = [sk_mat1, sk_mat2, sk_mat3, sk_mat4, sk_mat5]\n",
    "all_test_mat = [test_mat1, test_mat2, test_mat3, test_mat4, test_mat5]"
   ]
  },
  {
   "cell_type": "code",
   "execution_count": 30,
   "metadata": {},
   "outputs": [],
   "source": [
    "# for sk_mat in all_sk_mat:\n",
    "#     for i in range(len(sk_mat)):\n",
    "#         for j in range(len(sk_mat[i])):\n",
    "#             if sk_mat[i][j] == 0:\n",
    "#                 sk_mat[i][j] = m_r_avg[str(j+1)][0]"
   ]
  },
  {
   "cell_type": "code",
   "execution_count": 31,
   "metadata": {},
   "outputs": [],
   "source": [
    "def full_alg(nn, opt=False, p_weight=6):\n",
    "    '''nn | optimise | '''\n",
    "    total = 0\n",
    "    for i in range(len(all_sk_mat)):\n",
    "        knn_mat = knn(nn, all_sk_mat[i])\n",
    "        if opt:\n",
    "            knn_mat = opt_weights(knn_mat)\n",
    "        weight_collapse(all_sk_mat[i], knn_mat)\n",
    "        u_r = weight_collapse(all_sk_mat[i], knn_mat)\n",
    "        total += mae(u_r, all_test_mat[i])\n",
    "    \n",
    "    return total/5"
   ]
  },
  {
   "cell_type": "code",
   "execution_count": 32,
   "metadata": {
    "scrolled": true
   },
   "outputs": [
    {
     "name": "stdout",
     "output_type": "stream",
     "text": [
      "0.8931143840450474\n"
     ]
    }
   ],
   "source": [
    "print(full_alg(400, False))"
   ]
  },
  {
   "cell_type": "code",
   "execution_count": 33,
   "metadata": {},
   "outputs": [
    {
     "name": "stdout",
     "output_type": "stream",
     "text": [
      "0.8931152695516437\n"
     ]
    }
   ],
   "source": [
    "print(full_alg(400, True))"
   ]
  },
  {
   "cell_type": "markdown",
   "metadata": {},
   "source": [
    "# Best in Genre"
   ]
  },
  {
   "cell_type": "code",
   "execution_count": null,
   "metadata": {},
   "outputs": [],
   "source": [
    "genres = ['unknown', 'Action', 'Adventure', 'Animation', \"Children's\", 'Comedy', 'Crime', 'Documentary', 'Drama', 'Fantasy','Film-Noir', 'Horror', 'Musical', 'Mystery', 'Romance', 'Sci-Fi', 'Thriller', 'War', 'Western']"
   ]
  },
  {
   "cell_type": "code",
   "execution_count": null,
   "metadata": {},
   "outputs": [],
   "source": [
    "def best_in_genre(genre):\n",
    "    g = genres.index(genre)\n",
    "    best_so_far = []\n",
    "    for i in m_r_avg:\n",
    "        if int(m_r_avg[i][1][g]) == 1:\n",
    "            if len(best_so_far) == 0:\n",
    "                best_so_far.append(i)\n",
    "            if m_r_avg[i][0] > m_r_avg[best_so_far[0]][0]:\n",
    "                best_so_far = [i]\n",
    "            elif m_r_avg[i][0] == best_so_far[0][0]:\n",
    "                best_so_far[0].append(i)  \n",
    "    ret = []\n",
    "    for i in best_so_far:\n",
    "        ret.append(m_names[i])\n",
    "    return ret"
   ]
  },
  {
   "cell_type": "markdown",
   "metadata": {},
   "source": [
    "# No libraries KNN"
   ]
  },
  {
   "cell_type": "code",
   "execution_count": null,
   "metadata": {},
   "outputs": [],
   "source": [
    "def calc_sim(user1, user2):\n",
    "    '''Calculate similarity between two users'''\n",
    "    total_sum = 0\n",
    "    total_common = 0\n",
    "    for i in u_d[user1]:\n",
    "        if i in u_d[user2]:\n",
    "            total_common += 1\n",
    "            total_sum += (int(u_d[user1][i]) - int(u_d[user2][i]))**2\n",
    "    sq_o_sum = math.sqrt(total_sum)\n",
    "    return (1/(1+sq_o_sum), total_common)"
   ]
  },
  {
   "cell_type": "code",
   "execution_count": null,
   "metadata": {},
   "outputs": [],
   "source": [
    "def find_nn(user, k):\n",
    "    sim_list = []\n",
    "    for i in u_d:\n",
    "        if i != user:\n",
    "            sim = calc_sim(user, i)\n",
    "            if sim[1] >= 8:\n",
    "                sim_list.append((i, sim))\n",
    "    sim_list = sorted(sim_list, reverse=True, key=lambda x: x[1])\n",
    "    return sim_list[:k]"
   ]
  },
  {
   "cell_type": "code",
   "execution_count": null,
   "metadata": {},
   "outputs": [],
   "source": [
    "def unseen(user):\n",
    "    us_m = {}\n",
    "    nn = find_nn(user, 200)\n",
    "    for i in nn:\n",
    "        for rat in u_d[i[0]]:\n",
    "            if rat not in u_d[user]:\n",
    "                if i[0] not in us_m:\n",
    "                    us_m[i[0]] = []\n",
    "                us_m[i[0]].append([i[1][0], rat, u_d[i[0]][rat]])\n",
    "    return us_m\n",
    "    "
   ]
  },
  {
   "cell_type": "code",
   "execution_count": null,
   "metadata": {},
   "outputs": [],
   "source": [
    "def rate_unseen(user):\n",
    "    us_m = unseen(user)\n",
    "    m_ar = {}\n",
    "    for i in us_m:\n",
    "        for j in us_m[i]:\n",
    "            if j[1] not in m_ar:\n",
    "                m_ar[j[1]] = []\n",
    "                w_rat = j[0]*int(j[2])\n",
    "                m_ar[j[1]].append(w_rat)\n",
    "        \n",
    "    m_li = []\n",
    "    for i in m_ar:\n",
    "        m_li.append((i, sum(m_ar[i])/len(m_ar[i])))\n",
    "        m_li = sorted(m_li, reverse=True, key=lambda x: x[1])\n",
    "    return m_li\n",
    "        "
   ]
  },
  {
   "cell_type": "code",
   "execution_count": null,
   "metadata": {},
   "outputs": [],
   "source": [
    "def recommend(user, amount):\n",
    "    li = rate_unseen(user)[:amount]\n",
    "    ret = []\n",
    "    for mov in li:\n",
    "        ret.append(m_names[mov[0]])\n",
    "    return ret"
   ]
  },
  {
   "cell_type": "code",
   "execution_count": null,
   "metadata": {},
   "outputs": [],
   "source": [
    "best_in_genre(\"Adventure\")"
   ]
  },
  {
   "cell_type": "code",
   "execution_count": null,
   "metadata": {},
   "outputs": [],
   "source": [
    "recommend('1', 10)\n"
   ]
  },
  {
   "cell_type": "code",
   "execution_count": null,
   "metadata": {},
   "outputs": [],
   "source": []
  }
 ],
 "metadata": {
  "kernelspec": {
   "display_name": "Python 3",
   "language": "python",
   "name": "python3"
  },
  "language_info": {
   "codemirror_mode": {
    "name": "ipython",
    "version": 3
   },
   "file_extension": ".py",
   "mimetype": "text/x-python",
   "name": "python",
   "nbconvert_exporter": "python",
   "pygments_lexer": "ipython3",
   "version": "3.7.7"
  },
  "varInspector": {
   "cols": {
    "lenName": 16,
    "lenType": 16,
    "lenVar": 40
   },
   "kernels_config": {
    "python": {
     "delete_cmd_postfix": "",
     "delete_cmd_prefix": "del ",
     "library": "var_list.py",
     "varRefreshCmd": "print(var_dic_list())"
    },
    "r": {
     "delete_cmd_postfix": ") ",
     "delete_cmd_prefix": "rm(",
     "library": "var_list.r",
     "varRefreshCmd": "cat(var_dic_list()) "
    }
   },
   "types_to_exclude": [
    "module",
    "function",
    "builtin_function_or_method",
    "instance",
    "_Feature"
   ],
   "window_display": false
  }
 },
 "nbformat": 4,
 "nbformat_minor": 2
}
